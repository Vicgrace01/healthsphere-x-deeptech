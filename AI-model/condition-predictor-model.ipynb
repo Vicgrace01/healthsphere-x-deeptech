# 🧠 Condition Predictor Model

This notebook trains a basic AI model to predict possible illnesses (e.g. Malaria, Common Cold, COVID-19) using health metrics such as temperature, symptoms, and medical history.

import pandas as pd
import numpy as np
from sklearn.model_selection import train_test_split
from sklearn.preprocessing import LabelEncoder
from sklearn.ensemble import RandomForestClassifier
from sklearn.metrics import classification_report, accuracy_score

df = pd.read_csv('../AI-model/training-data.csv')  # Update path if needed
df.head()

df_clean = df[['Temperature_C', 'Age', 'Gender', 'MedicalHistory', 'Symptoms', 'PredictedIllness']].copy()

le_gender = LabelEncoder()
le_history = LabelEncoder()
le_symptoms = LabelEncoder()
le_illness = LabelEncoder()

df_clean['Gender'] = le_gender.fit_transform(df_clean['Gender'].astype(str))
df_clean['MedicalHistory'] = le_history.fit_transform(df_clean['MedicalHistory'].astype(str))
df_clean['Symptoms'] = le_symptoms.fit_transform(df_clean['Symptoms'].astype(str))
df_clean['PredictedIllness'] = le_illness.fit_transform(df_clean['PredictedIllness'].astype(str))

X = df_clean.drop('PredictedIllness', axis=1)
y = df_clean['PredictedIllness']

X_train, X_test, y_train, y_test = train_test_split(X, y, test_size=0.2, random_state=42)

model = RandomForestClassifier(n_estimators=100, random_state=42)
model.fit(X_train, y_train)

import joblib
joblib.dump(model, 'condition_predictor_model.pkl')

sample = pd.DataFrame([{
    'Temperature_C': 37.8,
    'Age': 30,
    'Gender': le_gender.transform(['Male'])[0],
    'MedicalHistory': le_history.transform(['Diabetes'])[0],
    'Symptoms': le_symptoms.transform(['Fatigue'])[0]
}])

prediction = model.predict(sample)
predicted_label = le_illness.inverse_transform(prediction)
print("Predicted Illness:", predicted_label[0])
